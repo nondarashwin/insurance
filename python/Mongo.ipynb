{
 "cells": [
  {
   "cell_type": "code",
   "execution_count": 5,
   "metadata": {},
   "outputs": [],
   "source": [
    "from pymongo import MongoClient\n",
    "from pprint import pprint\n",
    "import pandas as pd\n",
    "client = MongoClient(port=27017)\n",
    "db=client.insurance\n",
    "cursor=db.quotes.aggregate([{\"$group\":{\"_id\":{\"email\":\"$formData.email\",\"category\":\"$category\",\"product\":\"$product\"}}},{\"$project\":{\"email\":\"$_id.email\",\"category\":\"$_id.category\",\"product\":\"$_id.product\",\"_id\":0}}])"
   ]
  },
  {
   "cell_type": "code",
   "execution_count": 6,
   "metadata": {},
   "outputs": [],
   "source": [
    "data=pd.DataFrame(cursor)\n",
    "data[\"categoryProduct\"]=data[\"category\"]+\",\"+data[\"product\"]\n",
    "categoryProduct=set(data[\"categoryProduct\"])"
   ]
  },
  {
   "cell_type": "code",
   "execution_count": 7,
   "metadata": {},
   "outputs": [
    {
     "name": "stdout",
     "output_type": "stream",
     "text": [
      "                                                i  \\\n",
      "0   Term Life Insurance,Individual Life Insurance   \n",
      "1   Term Life Insurance,Individual Life Insurance   \n",
      "2   Term Life Insurance,Individual Life Insurance   \n",
      "3   Term Life Insurance,Individual Life Insurance   \n",
      "4                   Motor Insurance,Car Insurance   \n",
      "5                   Motor Insurance,Car Insurance   \n",
      "6                   Motor Insurance,Car Insurance   \n",
      "7                   Motor Insurance,Car Insurance   \n",
      "8        Health Insurance,Individual Health Guard   \n",
      "9        Health Insurance,Individual Health Guard   \n",
      "10       Health Insurance,Individual Health Guard   \n",
      "11       Health Insurance,Individual Health Guard   \n",
      "12     Travel Insurance,Overseas Travel Insurance   \n",
      "13     Travel Insurance,Overseas Travel Insurance   \n",
      "14     Travel Insurance,Overseas Travel Insurance   \n",
      "15     Travel Insurance,Overseas Travel Insurance   \n",
      "\n",
      "                                                j  count  \n",
      "0   Term Life Insurance,Individual Life Insurance     10  \n",
      "1                   Motor Insurance,Car Insurance     10  \n",
      "2        Health Insurance,Individual Health Guard      0  \n",
      "3      Travel Insurance,Overseas Travel Insurance     10  \n",
      "4   Term Life Insurance,Individual Life Insurance     10  \n",
      "5                   Motor Insurance,Car Insurance     10  \n",
      "6        Health Insurance,Individual Health Guard      0  \n",
      "7      Travel Insurance,Overseas Travel Insurance     10  \n",
      "8   Term Life Insurance,Individual Life Insurance      0  \n",
      "9                   Motor Insurance,Car Insurance      0  \n",
      "10       Health Insurance,Individual Health Guard      1  \n",
      "11     Travel Insurance,Overseas Travel Insurance      1  \n",
      "12  Term Life Insurance,Individual Life Insurance     10  \n",
      "13                  Motor Insurance,Car Insurance     10  \n",
      "14       Health Insurance,Individual Health Guard      1  \n",
      "15     Travel Insurance,Overseas Travel Insurance     11  \n"
     ]
    }
   ],
   "source": [
    "outputData=list()\n",
    "for i in categoryProduct:\n",
    "    iUsers=set(data.email[data[\"categoryProduct\"]==i])    \n",
    "    for j in categoryProduct:\n",
    "        curOutput=list()\n",
    "        curOutput.append(i)\n",
    "        curOutput.append(j)\n",
    "        jUsers=set(data.email[data[\"categoryProduct\"]==j])\n",
    "        curOutput.append(len(iUsers&jUsers))\n",
    "        outputData.append(curOutput)\n",
    "outputData=pd.DataFrame(outputData,columns=[\"i\",\"j\",\"count\"])\n",
    "print(outputData)"
   ]
  },
  {
   "cell_type": "code",
   "execution_count": 26,
   "metadata": {},
   "outputs": [],
   "source": [
    "def suggest(category,product):\n",
    "    client = MongoClient(port=27017)\n",
    "    db=client.insurance\n",
    "    cursor=db.quotes.aggregate([{\"$group\":{\"_id\":{\"email\":\"$formData.email\",\"category\":\"$category\",\"product\":\"$product\"}}},{\"$project\":{\"email\":\"$_id.email\",\"category\":\"$_id.category\",\"product\":\"$_id.product\",\"_id\":0}}])\n",
    "    data=pd.DataFrame(cursor)\n",
    "    data[\"categoryProduct\"]=data[\"category\"]+\",\"+data[\"product\"]\n",
    "    categoryProduct=set(data[\"categoryProduct\"])\n",
    "    outputData=list()\n",
    "    for i in categoryProduct:\n",
    "        iUsers=set(data.email[data[\"categoryProduct\"]==i])    \n",
    "        for j in categoryProduct:\n",
    "            curOutput=list()\n",
    "            curOutput.append(i)\n",
    "            curOutput.append(j)\n",
    "            jUsers=set(data.email[data[\"categoryProduct\"]==j])\n",
    "            curOutput.append(len(iUsers&jUsers))\n",
    "            outputData.append(curOutput)\n",
    "    outputData=pd.DataFrame(outputData,columns=[\"i\",\"j\",\"count\"])\n",
    "    categoryProduct=category+\",\"+product\n",
    "    processData=outputData[outputData[\"i\"]==categoryProduct]\n",
    "    total=sum(processData[\"count\"])\n",
    "    if(total>0):\n",
    "        processData[\"count\"]=(processData[\"count\"]*100)/total\n",
    "        print(processData)\n",
    "        categories=set(processData.j[processData[\"count\"]>30])\n",
    "        categoryList=list()\n",
    "        productList=list()\n",
    "        for cat in categories:\n",
    "            split=cat.split(\",\")\n",
    "            categoryList.append(split[0])\n",
    "            productList.append(split[1])\n",
    "        return list(db.formConfig.find({\"category\":{\"$in\":categoryList},\"product\":{\"$in\":productList}},{\"category\":1,\"product\":1,\"image\":1,\"info\":1,\"_id\":0}))\n",
    "    return list()"
   ]
  },
  {
   "cell_type": "code",
   "execution_count": 28,
   "metadata": {},
   "outputs": [
    {
     "name": "stdout",
     "output_type": "stream",
     "text": [
      "                                             i  \\\n",
      "12  Travel Insurance,Overseas Travel Insurance   \n",
      "13  Travel Insurance,Overseas Travel Insurance   \n",
      "14  Travel Insurance,Overseas Travel Insurance   \n",
      "15  Travel Insurance,Overseas Travel Insurance   \n",
      "\n",
      "                                                j   count  \n",
      "12  Term Life Insurance,Individual Life Insurance  31.250  \n",
      "13                  Motor Insurance,Car Insurance  31.250  \n",
      "14       Health Insurance,Individual Health Guard   3.125  \n",
      "15     Travel Insurance,Overseas Travel Insurance  34.375  \n"
     ]
    },
    {
     "name": "stderr",
     "output_type": "stream",
     "text": [
      "<ipython-input-26-706608aef3f7>:23: SettingWithCopyWarning: \n",
      "A value is trying to be set on a copy of a slice from a DataFrame.\n",
      "Try using .loc[row_indexer,col_indexer] = value instead\n",
      "\n",
      "See the caveats in the documentation: https://pandas.pydata.org/pandas-docs/stable/user_guide/indexing.html#returning-a-view-versus-a-copy\n",
      "  processData[\"count\"]=(processData[\"count\"]*100)/total\n"
     ]
    },
    {
     "data": {
      "text/plain": [
       "[{'image': 'https://images.moneycontrol.com/static-mcnews/2018/03/car-insurance-770x433.jpg',\n",
       "  'product': 'Car Insurance',\n",
       "  'category': 'Motor Insurance',\n",
       "  'info': ''},\n",
       " {'image': 'https://www.shriramgi.com/images/travelproductbg.jpg',\n",
       "  'product': 'Overseas Travel Insurance',\n",
       "  'category': 'Travel Insurance',\n",
       "  'info': ''},\n",
       " {'image': 'https://brandsite-static.hdfclife.com/media/image/45.jpg',\n",
       "  'product': 'Individual Life Insurance',\n",
       "  'category': 'Term Life Insurance',\n",
       "  'info': ''}]"
      ]
     },
     "execution_count": 28,
     "metadata": {},
     "output_type": "execute_result"
    }
   ],
   "source": [
    "suggest(\"Travel Insurance\",\"Overseas Travel Insurance\")"
   ]
  },
  {
   "cell_type": "code",
   "execution_count": 22,
   "metadata": {},
   "outputs": [
    {
     "ename": "ValueError",
     "evalue": "The truth value of a Series is ambiguous. Use a.empty, a.bool(), a.item(), a.any() or a.all().",
     "output_type": "error",
     "traceback": [
      "\u001b[0;31m---------------------------------------------------------------------------\u001b[0m",
      "\u001b[0;31mValueError\u001b[0m                                Traceback (most recent call last)",
      "\u001b[0;32m<ipython-input-22-723b8b926b68>\u001b[0m in \u001b[0;36m<module>\u001b[0;34m\u001b[0m\n\u001b[0;32m----> 1\u001b[0;31m \u001b[0mdata\u001b[0m\u001b[0;34m[\u001b[0m\u001b[0mdata\u001b[0m\u001b[0;34m[\u001b[0m\u001b[0;34m\"email\"\u001b[0m\u001b[0;34m]\u001b[0m \u001b[0;32min\u001b[0m \u001b[0;34m[\u001b[0m\u001b[0;34m\"rashwinnonda@gmail.com\"\u001b[0m\u001b[0;34m]\u001b[0m\u001b[0;34m]\u001b[0m\u001b[0;34m\u001b[0m\u001b[0;34m\u001b[0m\u001b[0m\n\u001b[0m",
      "\u001b[0;32m/usr/local/lib/python3.8/dist-packages/pandas/core/generic.py\u001b[0m in \u001b[0;36m__nonzero__\u001b[0;34m(self)\u001b[0m\n\u001b[1;32m   1476\u001b[0m \u001b[0;34m\u001b[0m\u001b[0m\n\u001b[1;32m   1477\u001b[0m     \u001b[0;32mdef\u001b[0m \u001b[0m__nonzero__\u001b[0m\u001b[0;34m(\u001b[0m\u001b[0mself\u001b[0m\u001b[0;34m)\u001b[0m\u001b[0;34m:\u001b[0m\u001b[0;34m\u001b[0m\u001b[0;34m\u001b[0m\u001b[0m\n\u001b[0;32m-> 1478\u001b[0;31m         raise ValueError(\n\u001b[0m\u001b[1;32m   1479\u001b[0m             \u001b[0;34mf\"The truth value of a {type(self).__name__} is ambiguous. \"\u001b[0m\u001b[0;34m\u001b[0m\u001b[0;34m\u001b[0m\u001b[0m\n\u001b[1;32m   1480\u001b[0m             \u001b[0;34m\"Use a.empty, a.bool(), a.item(), a.any() or a.all().\"\u001b[0m\u001b[0;34m\u001b[0m\u001b[0;34m\u001b[0m\u001b[0m\n",
      "\u001b[0;31mValueError\u001b[0m: The truth value of a Series is ambiguous. Use a.empty, a.bool(), a.item(), a.any() or a.all()."
     ]
    }
   ],
   "source": [
    "data[data[\"email\"] in [\"rashwinnonda@gmail.com\"]]"
   ]
  },
  {
   "cell_type": "code",
   "execution_count": null,
   "metadata": {},
   "outputs": [],
   "source": []
  }
 ],
 "metadata": {
  "kernelspec": {
   "display_name": "Python 3",
   "language": "python",
   "name": "python3"
  },
  "language_info": {
   "codemirror_mode": {
    "name": "ipython",
    "version": 3
   },
   "file_extension": ".py",
   "mimetype": "text/x-python",
   "name": "python",
   "nbconvert_exporter": "python",
   "pygments_lexer": "ipython3",
   "version": "3.8.5"
  }
 },
 "nbformat": 4,
 "nbformat_minor": 4
}
