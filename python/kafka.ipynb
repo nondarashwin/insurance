{
 "cells": [
  {
   "cell_type": "code",
   "execution_count": 1,
   "metadata": {},
   "outputs": [
    {
     "name": "stdout",
     "output_type": "stream",
     "text": [
      "                                                i  \\\n",
      "0      Travel Insurance,Overseas Travel Insurance   \n",
      "1      Travel Insurance,Overseas Travel Insurance   \n",
      "2      Travel Insurance,Overseas Travel Insurance   \n",
      "3      Travel Insurance,Overseas Travel Insurance   \n",
      "4        Health Insurance,Individual Health Guard   \n",
      "5        Health Insurance,Individual Health Guard   \n",
      "6        Health Insurance,Individual Health Guard   \n",
      "7        Health Insurance,Individual Health Guard   \n",
      "8   Term Life Insurance,Individual Life Insurance   \n",
      "9   Term Life Insurance,Individual Life Insurance   \n",
      "10  Term Life Insurance,Individual Life Insurance   \n",
      "11  Term Life Insurance,Individual Life Insurance   \n",
      "12                  Motor Insurance,Car Insurance   \n",
      "13                  Motor Insurance,Car Insurance   \n",
      "14                  Motor Insurance,Car Insurance   \n",
      "15                  Motor Insurance,Car Insurance   \n",
      "\n",
      "                                                j  count  \n",
      "0      Travel Insurance,Overseas Travel Insurance     11  \n",
      "1        Health Insurance,Individual Health Guard      1  \n",
      "2   Term Life Insurance,Individual Life Insurance     10  \n",
      "3                   Motor Insurance,Car Insurance     10  \n",
      "4      Travel Insurance,Overseas Travel Insurance      1  \n",
      "5        Health Insurance,Individual Health Guard      1  \n",
      "6   Term Life Insurance,Individual Life Insurance      0  \n",
      "7                   Motor Insurance,Car Insurance      0  \n",
      "8      Travel Insurance,Overseas Travel Insurance     10  \n",
      "9        Health Insurance,Individual Health Guard      0  \n",
      "10  Term Life Insurance,Individual Life Insurance     10  \n",
      "11                  Motor Insurance,Car Insurance     10  \n",
      "12     Travel Insurance,Overseas Travel Insurance     10  \n",
      "13       Health Insurance,Individual Health Guard      0  \n",
      "14  Term Life Insurance,Individual Life Insurance     10  \n",
      "15                  Motor Insurance,Car Insurance     10  \n"
     ]
    }
   ],
   "source": [
    "import Mongo as mongo\n",
    "import json\n",
    "from json import dumps\n",
    "from kafka import KafkaConsumer\n",
    "from kafka import KafkaProducer"
   ]
  },
  {
   "cell_type": "code",
   "execution_count": null,
   "metadata": {},
   "outputs": [
    {
     "name": "stderr",
     "output_type": "stream",
     "text": [
      "/home/rashwin/Project/insurance/python/Mongo.py:65: SettingWithCopyWarning: \n",
      "A value is trying to be set on a copy of a slice from a DataFrame.\n",
      "Try using .loc[row_indexer,col_indexer] = value instead\n",
      "\n",
      "See the caveats in the documentation: https://pandas.pydata.org/pandas-docs/stable/user_guide/indexing.html#returning-a-view-versus-a-copy\n",
      "  processData[\"count\"]=(processData[\"count\"]*100)/total\n"
     ]
    },
    {
     "name": "stdout",
     "output_type": "stream",
     "text": [
      "                                            i  \\\n",
      "0  Travel Insurance,Overseas Travel Insurance   \n",
      "1  Travel Insurance,Overseas Travel Insurance   \n",
      "2  Travel Insurance,Overseas Travel Insurance   \n",
      "3  Travel Insurance,Overseas Travel Insurance   \n",
      "\n",
      "                                               j   count  \n",
      "0     Travel Insurance,Overseas Travel Insurance  34.375  \n",
      "1       Health Insurance,Individual Health Guard   3.125  \n",
      "2  Term Life Insurance,Individual Life Insurance  31.250  \n",
      "3                  Motor Insurance,Car Insurance  31.250  \n",
      "ding!dong! i have mailed\n"
     ]
    },
    {
     "name": "stderr",
     "output_type": "stream",
     "text": [
      "/home/rashwin/Project/insurance/python/Mongo.py:65: SettingWithCopyWarning: \n",
      "A value is trying to be set on a copy of a slice from a DataFrame.\n",
      "Try using .loc[row_indexer,col_indexer] = value instead\n",
      "\n",
      "See the caveats in the documentation: https://pandas.pydata.org/pandas-docs/stable/user_guide/indexing.html#returning-a-view-versus-a-copy\n",
      "  processData[\"count\"]=(processData[\"count\"]*100)/total\n"
     ]
    },
    {
     "name": "stdout",
     "output_type": "stream",
     "text": [
      "                                            i  \\\n",
      "0  Travel Insurance,Overseas Travel Insurance   \n",
      "1  Travel Insurance,Overseas Travel Insurance   \n",
      "2  Travel Insurance,Overseas Travel Insurance   \n",
      "3  Travel Insurance,Overseas Travel Insurance   \n",
      "\n",
      "                                               j   count  \n",
      "0     Travel Insurance,Overseas Travel Insurance  34.375  \n",
      "1       Health Insurance,Individual Health Guard   3.125  \n",
      "2  Term Life Insurance,Individual Life Insurance  31.250  \n",
      "3                  Motor Insurance,Car Insurance  31.250  \n",
      "ding!dong! i have mailed\n"
     ]
    },
    {
     "name": "stderr",
     "output_type": "stream",
     "text": [
      "/home/rashwin/Project/insurance/python/Mongo.py:65: SettingWithCopyWarning: \n",
      "A value is trying to be set on a copy of a slice from a DataFrame.\n",
      "Try using .loc[row_indexer,col_indexer] = value instead\n",
      "\n",
      "See the caveats in the documentation: https://pandas.pydata.org/pandas-docs/stable/user_guide/indexing.html#returning-a-view-versus-a-copy\n",
      "  processData[\"count\"]=(processData[\"count\"]*100)/total\n"
     ]
    },
    {
     "name": "stdout",
     "output_type": "stream",
     "text": [
      "                                            i  \\\n",
      "0  Travel Insurance,Overseas Travel Insurance   \n",
      "1  Travel Insurance,Overseas Travel Insurance   \n",
      "2  Travel Insurance,Overseas Travel Insurance   \n",
      "3  Travel Insurance,Overseas Travel Insurance   \n",
      "\n",
      "                                               j   count  \n",
      "0     Travel Insurance,Overseas Travel Insurance  34.375  \n",
      "1       Health Insurance,Individual Health Guard   3.125  \n",
      "2  Term Life Insurance,Individual Life Insurance  31.250  \n",
      "3                  Motor Insurance,Car Insurance  31.250  \n",
      "ding!dong! i have mailed\n"
     ]
    },
    {
     "name": "stderr",
     "output_type": "stream",
     "text": [
      "/home/rashwin/Project/insurance/python/Mongo.py:65: SettingWithCopyWarning: \n",
      "A value is trying to be set on a copy of a slice from a DataFrame.\n",
      "Try using .loc[row_indexer,col_indexer] = value instead\n",
      "\n",
      "See the caveats in the documentation: https://pandas.pydata.org/pandas-docs/stable/user_guide/indexing.html#returning-a-view-versus-a-copy\n",
      "  processData[\"count\"]=(processData[\"count\"]*100)/total\n"
     ]
    },
    {
     "name": "stdout",
     "output_type": "stream",
     "text": [
      "                                            i  \\\n",
      "0  Travel Insurance,Overseas Travel Insurance   \n",
      "1  Travel Insurance,Overseas Travel Insurance   \n",
      "2  Travel Insurance,Overseas Travel Insurance   \n",
      "3  Travel Insurance,Overseas Travel Insurance   \n",
      "\n",
      "                                               j   count  \n",
      "0     Travel Insurance,Overseas Travel Insurance  34.375  \n",
      "1       Health Insurance,Individual Health Guard   3.125  \n",
      "2  Term Life Insurance,Individual Life Insurance  31.250  \n",
      "3                  Motor Insurance,Car Insurance  31.250  \n",
      "ding!dong! i have mailed\n"
     ]
    },
    {
     "name": "stderr",
     "output_type": "stream",
     "text": [
      "/home/rashwin/Project/insurance/python/Mongo.py:65: SettingWithCopyWarning: \n",
      "A value is trying to be set on a copy of a slice from a DataFrame.\n",
      "Try using .loc[row_indexer,col_indexer] = value instead\n",
      "\n",
      "See the caveats in the documentation: https://pandas.pydata.org/pandas-docs/stable/user_guide/indexing.html#returning-a-view-versus-a-copy\n",
      "  processData[\"count\"]=(processData[\"count\"]*100)/total\n"
     ]
    },
    {
     "name": "stdout",
     "output_type": "stream",
     "text": [
      "                                            i  \\\n",
      "0  Travel Insurance,Overseas Travel Insurance   \n",
      "1  Travel Insurance,Overseas Travel Insurance   \n",
      "2  Travel Insurance,Overseas Travel Insurance   \n",
      "3  Travel Insurance,Overseas Travel Insurance   \n",
      "\n",
      "                                               j   count  \n",
      "0     Travel Insurance,Overseas Travel Insurance  34.375  \n",
      "1       Health Insurance,Individual Health Guard   3.125  \n",
      "2  Term Life Insurance,Individual Life Insurance  31.250  \n",
      "3                  Motor Insurance,Car Insurance  31.250  \n",
      "ding!dong! i have mailed\n"
     ]
    },
    {
     "name": "stderr",
     "output_type": "stream",
     "text": [
      "/home/rashwin/Project/insurance/python/Mongo.py:65: SettingWithCopyWarning: \n",
      "A value is trying to be set on a copy of a slice from a DataFrame.\n",
      "Try using .loc[row_indexer,col_indexer] = value instead\n",
      "\n",
      "See the caveats in the documentation: https://pandas.pydata.org/pandas-docs/stable/user_guide/indexing.html#returning-a-view-versus-a-copy\n",
      "  processData[\"count\"]=(processData[\"count\"]*100)/total\n"
     ]
    },
    {
     "name": "stdout",
     "output_type": "stream",
     "text": [
      "                                            i  \\\n",
      "0  Travel Insurance,Overseas Travel Insurance   \n",
      "1  Travel Insurance,Overseas Travel Insurance   \n",
      "2  Travel Insurance,Overseas Travel Insurance   \n",
      "3  Travel Insurance,Overseas Travel Insurance   \n",
      "\n",
      "                                               j   count  \n",
      "0     Travel Insurance,Overseas Travel Insurance  34.375  \n",
      "1       Health Insurance,Individual Health Guard   3.125  \n",
      "2  Term Life Insurance,Individual Life Insurance  31.250  \n",
      "3                  Motor Insurance,Car Insurance  31.250  \n",
      "ding!dong! i have mailed\n"
     ]
    }
   ],
   "source": [
    "consumer = KafkaConsumer('pipe',group_id='my_favorite_group',auto_offset_reset='earliest',\n",
    "     enable_auto_commit=True)\n",
    "producer = KafkaProducer(bootstrap_servers=['localhost:9092'],value_serializer=lambda x: \n",
    "                         dumps(x).encode('utf-8'))\n",
    "for msg in consumer:\n",
    "    text=str(msg.value)\n",
    "    text=text[:-1]\n",
    "    texts=text.split(\",\",1)\n",
    "    #print(texts)\n",
    "    #print(\"yes\")\n",
    "    #print(\"quote\" in texts[0])\n",
    "    if(\"quote\" in texts[0] ):\n",
    "        #print(\"quotes\")\n",
    "        data=json.loads(texts[1])\n",
    "        output=mongo.suggest(data[\"category\"],data[\"product\"])\n",
    "        if(len(output)!=0):\n",
    "            message={\"email\":data.get(\"formData\").get(\"email\"),\n",
    "                     \"userName\":data.get(\"formData\").get(\"fullName\"),\n",
    "                     \"category\":output\n",
    "                    }\n",
    "            producer.send('pipe', \"suggest,\"+json.dumps(message))\n",
    "            print(\"ding!dong! i have mailed\")\n",
    "        else:\n",
    "            print(\"Nothing to Mail\")\n",
    "            \n",
    "            "
   ]
  },
  {
   "cell_type": "code",
   "execution_count": null,
   "metadata": {},
   "outputs": [],
   "source": [
    "json.loads(texts[1])"
   ]
  },
  {
   "cell_type": "code",
   "execution_count": null,
   "metadata": {},
   "outputs": [],
   "source": []
  }
 ],
 "metadata": {
  "kernelspec": {
   "display_name": "Python 3",
   "language": "python",
   "name": "python3"
  },
  "language_info": {
   "codemirror_mode": {
    "name": "ipython",
    "version": 3
   },
   "file_extension": ".py",
   "mimetype": "text/x-python",
   "name": "python",
   "nbconvert_exporter": "python",
   "pygments_lexer": "ipython3",
   "version": "3.8.5"
  }
 },
 "nbformat": 4,
 "nbformat_minor": 4
}
