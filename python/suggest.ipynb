{
 "cells": [
  {
   "cell_type": "code",
   "execution_count": 2,
   "metadata": {},
   "outputs": [],
   "source": [
    "from pymongo import MongoClient\n",
    "from pprint import pprint\n",
    "import pandas as pd"
   ]
  },
  {
   "cell_type": "code",
   "execution_count": 3,
   "metadata": {},
   "outputs": [],
   "source": [
    "def suggest(category,product):\n",
    "    client = MongoClient(port=27017)\n",
    "    db=client.insurance\n",
    "    cursor=db.quotes.aggregate([{\"$group\":{\"_id\":{\"email\":\"$formData.email\",\"category\":\"$category\",\"product\":\"$product\"}}},{\"$project\":{\"email\":\"$_id.email\",\"category\":\"$_id.category\",\"product\":\"$_id.product\",\"_id\":0}}])\n",
    "    data=pd.DataFrame(cursor)\n",
    "    print(data)\n",
    "    data[\"categoryProduct\"]=data[\"category\"]+\",\"+data[\"product\"]\n",
    "    categoryProduct=set(data[\"categoryProduct\"])\n",
    "    outputData=list()\n",
    "    for i in categoryProduct:\n",
    "        iUsers=set(data.email[data[\"categoryProduct\"]==i])    \n",
    "        for j in categoryProduct:\n",
    "            curOutput=list()\n",
    "            curOutput.append(i)\n",
    "            curOutput.append(j)\n",
    "            jUsers=set(data.email[data[\"categoryProduct\"]==j])\n",
    "            curOutput.append(len(iUsers&jUsers))\n",
    "            outputData.append(curOutput)\n",
    "    outputData=pd.DataFrame(outputData,columns=[\"i\",\"j\",\"count\"])\n",
    "    categoryProduct=category+\",\"+product\n",
    "    processData=outputData[outputData[\"i\"]==categoryProduct]\n",
    "    #print(processData)\n",
    "    print(\"length\")\n",
    "    print(len(set(data.email[data[\"categoryProduct\"]==categoryProduct])))\n",
    "    total=len(set(data.email[data[\"categoryProduct\"]==categoryProduct]))\n",
    "    if(total>0):\n",
    "        processData[\"count\"]=(processData[\"count\"]*100)/total\n",
    "        print(processData)\n",
    "        categories=set(processData.j[processData[\"count\"]>60])\n",
    "        categoryList=list()\n",
    "        productList=list()\n",
    "        for cat in categories:\n",
    "            split=cat.split(\",\")\n",
    "            if(category!=split[0] and product!=split[1]):\n",
    "                categoryList.append(split[0])\n",
    "                productList.append(split[1])\n",
    "        return list(db.formConfig.find({\"category\":{\"$in\":categoryList},\"product\":{\"$in\":productList}},{\"category\":1,\"product\":1,\"image\":1,\"info\":1,\"_id\":0}))\n",
    "    return list()"
   ]
  },
  {
   "cell_type": "code",
   "execution_count": 4,
   "metadata": {},
   "outputs": [
    {
     "name": "stdout",
     "output_type": "stream",
     "text": [
      "                            email             category  \\\n",
      "0       4sf15cs22@sahyadri.edu.in  Term Life Insurance   \n",
      "1             ramanonda@gmail.com  Term Life Insurance   \n",
      "2          prateek.jo97@gmail.com  Term Life Insurance   \n",
      "3         mnrrnmproject@gmail.com      Motor Insurance   \n",
      "4           attri.param@gmail.com     Travel Insurance   \n",
      "5           attri.param@gmail.com  Term Life Insurance   \n",
      "6                             NaN     Travel Insurance   \n",
      "7      4sf15cs122@sahyadri.edu.in  Term Life Insurance   \n",
      "8                             NaN     Health Insurance   \n",
      "9       4sf15cs12@sahyadri.edu.in      Motor Insurance   \n",
      "10          attri.param@gmail.com      Motor Insurance   \n",
      "11            ramanonda@gmail.com      Motor Insurance   \n",
      "12      4sf15cs12@sahyadri.edu.in     Travel Insurance   \n",
      "13      4sf15cs12@sahyadri.edu.in  Term Life Insurance   \n",
      "14            ramanonda@gmail.com     Travel Insurance   \n",
      "15     4sf15cs122@sahyadri.edu.in      Motor Insurance   \n",
      "16      4sf15cs22@sahyadri.edu.in     Travel Insurance   \n",
      "17       rashwinnonda@outlook.com  Term Life Insurance   \n",
      "18         rashwinnonda@gmail.com     Travel Insurance   \n",
      "19      4sf15cs22@sahyadri.edu.in      Motor Insurance   \n",
      "20  teamzircon.sahyadri@gmail.com      Motor Insurance   \n",
      "21         prateek.jo97@gmail.com     Travel Insurance   \n",
      "22        mnrrnmproject@gmail.com  Term Life Insurance   \n",
      "23         prateek.jo97@gmail.com      Motor Insurance   \n",
      "24     4sf15cs122@sahyadri.edu.in     Travel Insurance   \n",
      "25        mnrrnmproject@gmail.com     Travel Insurance   \n",
      "26         rashwinnonda@gmail.com  Term Life Insurance   \n",
      "27  teamzircon.sahyadri@gmail.com     Travel Insurance   \n",
      "28       rashwinnonda@outlook.com     Travel Insurance   \n",
      "29  teamzircon.sahyadri@gmail.com  Term Life Insurance   \n",
      "30         rashwinnonda@gmail.com      Motor Insurance   \n",
      "31       rashwinnonda@outlook.com      Motor Insurance   \n",
      "\n",
      "                      product  \n",
      "0   Individual Life Insurance  \n",
      "1   Individual Life Insurance  \n",
      "2   Individual Life Insurance  \n",
      "3               Car Insurance  \n",
      "4   Overseas Travel Insurance  \n",
      "5   Individual Life Insurance  \n",
      "6   Overseas Travel Insurance  \n",
      "7   Individual Life Insurance  \n",
      "8     Individual Health Guard  \n",
      "9               Car Insurance  \n",
      "10              Car Insurance  \n",
      "11              Car Insurance  \n",
      "12  Overseas Travel Insurance  \n",
      "13  Individual Life Insurance  \n",
      "14  Overseas Travel Insurance  \n",
      "15              Car Insurance  \n",
      "16  Overseas Travel Insurance  \n",
      "17  Individual Life Insurance  \n",
      "18  Overseas Travel Insurance  \n",
      "19              Car Insurance  \n",
      "20              Car Insurance  \n",
      "21  Overseas Travel Insurance  \n",
      "22  Individual Life Insurance  \n",
      "23              Car Insurance  \n",
      "24  Overseas Travel Insurance  \n",
      "25  Overseas Travel Insurance  \n",
      "26  Individual Life Insurance  \n",
      "27  Overseas Travel Insurance  \n",
      "28  Overseas Travel Insurance  \n",
      "29  Individual Life Insurance  \n",
      "30              Car Insurance  \n",
      "31              Car Insurance  \n",
      "length\n",
      "11\n",
      "                                            i  \\\n",
      "0  Travel Insurance,Overseas Travel Insurance   \n",
      "1  Travel Insurance,Overseas Travel Insurance   \n",
      "2  Travel Insurance,Overseas Travel Insurance   \n",
      "3  Travel Insurance,Overseas Travel Insurance   \n",
      "\n",
      "                                               j       count  \n",
      "0     Travel Insurance,Overseas Travel Insurance  100.000000  \n",
      "1       Health Insurance,Individual Health Guard    9.090909  \n",
      "2                  Motor Insurance,Car Insurance   90.909091  \n",
      "3  Term Life Insurance,Individual Life Insurance   90.909091  \n"
     ]
    },
    {
     "name": "stderr",
     "output_type": "stream",
     "text": [
      "<ipython-input-3-10718179d280>:27: SettingWithCopyWarning: \n",
      "A value is trying to be set on a copy of a slice from a DataFrame.\n",
      "Try using .loc[row_indexer,col_indexer] = value instead\n",
      "\n",
      "See the caveats in the documentation: https://pandas.pydata.org/pandas-docs/stable/user_guide/indexing.html#returning-a-view-versus-a-copy\n",
      "  processData[\"count\"]=(processData[\"count\"]*100)/total\n"
     ]
    },
    {
     "data": {
      "text/plain": [
       "[{'image': 'https://images.moneycontrol.com/static-mcnews/2018/03/car-insurance-770x433.jpg',\n",
       "  'product': 'Car Insurance',\n",
       "  'category': 'Motor Insurance',\n",
       "  'info': ''},\n",
       " {'image': 'https://brandsite-static.hdfclife.com/media/image/45.jpg',\n",
       "  'product': 'Individual Life Insurance',\n",
       "  'category': 'Term Life Insurance',\n",
       "  'info': ''}]"
      ]
     },
     "execution_count": 4,
     "metadata": {},
     "output_type": "execute_result"
    }
   ],
   "source": [
    "suggest(\"Travel Insurance\",\"Overseas Travel Insurance\")"
   ]
  },
  {
   "cell_type": "code",
   "execution_count": 1,
   "metadata": {},
   "outputs": [
    {
     "ename": "NameError",
     "evalue": "name 'suggest' is not defined",
     "output_type": "error",
     "traceback": [
      "\u001b[0;31m---------------------------------------------------------------------------\u001b[0m",
      "\u001b[0;31mNameError\u001b[0m                                 Traceback (most recent call last)",
      "\u001b[0;32m<ipython-input-1-f11a4ecd4e29>\u001b[0m in \u001b[0;36m<module>\u001b[0;34m\u001b[0m\n\u001b[0;32m----> 1\u001b[0;31m \u001b[0msuggest\u001b[0m\u001b[0;34m(\u001b[0m\u001b[0;34m\"Term Life Insurance\"\u001b[0m\u001b[0;34m,\u001b[0m\u001b[0;34m\"Individual Life Insurance\"\u001b[0m\u001b[0;34m)\u001b[0m\u001b[0;34m\u001b[0m\u001b[0;34m\u001b[0m\u001b[0m\n\u001b[0m",
      "\u001b[0;31mNameError\u001b[0m: name 'suggest' is not defined"
     ]
    }
   ],
   "source": [
    "suggest(\"Term Life Insurance\",\"Individual Life Insurance\")"
   ]
  },
  {
   "cell_type": "code",
   "execution_count": null,
   "metadata": {},
   "outputs": [],
   "source": [
    "suggest(\"Health Insurance\",\"Individual Health Guard\" )"
   ]
  },
  {
   "cell_type": "code",
   "execution_count": null,
   "metadata": {},
   "outputs": [],
   "source": []
  },
  {
   "cell_type": "code",
   "execution_count": null,
   "metadata": {},
   "outputs": [],
   "source": []
  }
 ],
 "metadata": {
  "kernelspec": {
   "display_name": "Python 3",
   "language": "python",
   "name": "python3"
  },
  "language_info": {
   "codemirror_mode": {
    "name": "ipython",
    "version": 3
   },
   "file_extension": ".py",
   "mimetype": "text/x-python",
   "name": "python",
   "nbconvert_exporter": "python",
   "pygments_lexer": "ipython3",
   "version": "3.8.5"
  }
 },
 "nbformat": 4,
 "nbformat_minor": 4
}
